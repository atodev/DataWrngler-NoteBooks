{
 "cells": [
  {
   "cell_type": "markdown",
   "id": "6f545256",
   "metadata": {},
   "source": [
    "Script to map the address list to the raw llc (col1 sender + col2 recipient)  \n",
    "TomB 10/04/2023"
   ]
  },
  {
   "cell_type": "code",
   "execution_count": 1,
   "id": "ba36bf08",
   "metadata": {},
   "outputs": [],
   "source": [
    "import pandas as pd"
   ]
  },
  {
   "cell_type": "code",
   "execution_count": null,
   "id": "398c81c7",
   "metadata": {},
   "outputs": [],
   "source": []
  },
  {
   "cell_type": "code",
   "execution_count": 2,
   "id": "fd62e1b9",
   "metadata": {},
   "outputs": [],
   "source": [
    "dfn = pd.read_csv('../Data/HR_data_file.tsv', sep='\\t')"
   ]
  },
  {
   "cell_type": "code",
   "execution_count": 3,
   "id": "0cb6be62",
   "metadata": {},
   "outputs": [],
   "source": [
    "#Select only in scope\n",
    "dfn = dfn.query('SCOPE_INDICATOR == \"Yes\"')"
   ]
  },
  {
   "cell_type": "code",
   "execution_count": 4,
   "id": "1abe7de3",
   "metadata": {},
   "outputs": [],
   "source": [
    "#dfn"
   ]
  },
  {
   "cell_type": "code",
   "execution_count": 5,
   "id": "ae727820",
   "metadata": {},
   "outputs": [],
   "source": [
    "dfa = dfn.EMPL_EMAIL_ALIAS"
   ]
  },
  {
   "cell_type": "code",
   "execution_count": 6,
   "id": "72e5a33e",
   "metadata": {},
   "outputs": [],
   "source": [
    "#dfa"
   ]
  },
  {
   "cell_type": "code",
   "execution_count": 7,
   "id": "39048cea",
   "metadata": {},
   "outputs": [],
   "source": [
    "#Create the address file\n",
    "dfa.to_csv('address.csv', index = False)"
   ]
  },
  {
   "cell_type": "code",
   "execution_count": 8,
   "id": "a1b0f5d0",
   "metadata": {},
   "outputs": [],
   "source": [
    "# split rows where needed\n",
    "# each relationship on a new line\n",
    "input_file_name = \"../Data/pfizerv2_2.llc\"\n",
    "output_file_name = \"temp_file.txt\"\n",
    "\n",
    "with open(input_file_name, \"r\") as input_file, open(output_file_name, \"w\") as output_file:\n",
    "    for line in input_file:\n",
    "        line_parts = line.strip().split(\"\\t\")\n",
    "        sender = line_parts[0]\n",
    "        recipients = line_parts[1].split(\",\")\n",
    "        direction = line_parts[2]\n",
    "        timestamp = line_parts[3]\n",
    "        for recipient in recipients:\n",
    "            new_line = f\"{sender}\\t{recipient}\\t{direction}\\t{timestamp}\\n\"\n",
    "            output_file.write(new_line)"
   ]
  },
  {
   "cell_type": "code",
   "execution_count": 22,
   "id": "95c97ca8",
   "metadata": {},
   "outputs": [],
   "source": []
  },
  {
   "cell_type": "code",
   "execution_count": 9,
   "id": "bd0dccd6",
   "metadata": {},
   "outputs": [
    {
     "ename": "KeyboardInterrupt",
     "evalue": "",
     "output_type": "error",
     "traceback": [
      "\u001b[1;31m---------------------------------------------------------------------------\u001b[0m",
      "\u001b[1;31mKeyboardInterrupt\u001b[0m                         Traceback (most recent call last)",
      "Cell \u001b[1;32mIn[9], line 30\u001b[0m\n\u001b[0;32m     27\u001b[0m         filtered_chunk \u001b[38;5;241m=\u001b[39m [line \u001b[38;5;28;01mfor\u001b[39;00m line \u001b[38;5;129;01min\u001b[39;00m chunk \u001b[38;5;28;01mif\u001b[39;00m regex\u001b[38;5;241m.\u001b[39msearch(line)]\n\u001b[0;32m     29\u001b[0m         \u001b[38;5;66;03m# Write the filtered lines to the output file\u001b[39;00m\n\u001b[1;32m---> 30\u001b[0m         \u001b[43moutput_file\u001b[49m\u001b[38;5;241;43m.\u001b[39;49m\u001b[43mwritelines\u001b[49m\u001b[43m(\u001b[49m\u001b[43mfiltered_chunk\u001b[49m\u001b[43m)\u001b[49m\n\u001b[0;32m     32\u001b[0m end_time \u001b[38;5;241m=\u001b[39m time\u001b[38;5;241m.\u001b[39mtime()\n\u001b[0;32m     34\u001b[0m \u001b[38;5;66;03m# Print the time taken in hours and minutes\u001b[39;00m\n",
      "\u001b[1;31mKeyboardInterrupt\u001b[0m: "
     ]
    }
   ],
   "source": [
    "# with time taken\n",
    "import re\n",
    "import csv\n",
    "import time\n",
    "\n",
    "start_time = time.time()\n",
    "\n",
    "#create an address file with all subjects in scope - one per line\n",
    "# items from the address file must match at least once in the sender or reciever cols\n",
    "with open(\"address.csv\", \"r\") as csv_file:\n",
    "    items_to_match = [row[0] for row in csv.reader(csv_file)]\n",
    "\n",
    "\n",
    "# Open the file to read from - this is the llc c file from the client\n",
    "with open(\"temp_file.txt\", \"r\") as input_file, open(\"output_file.txt\", \"w\") as output_file:\n",
    "\n",
    "    # Define a regular expression to match any of the items to match\n",
    "    regex = re.compile(\"|\".join(items_to_match))\n",
    "\n",
    "    # Process the input file in chunks\n",
    "    while True:\n",
    "        chunk = input_file.readlines(10000)  # Read 10,000 lines at a time\n",
    "        if not chunk:\n",
    "            break  # End of file\n",
    "\n",
    "        # Filter the chunk to find lines that contain at least one item to match\n",
    "        filtered_chunk = [line for line in chunk if regex.search(line)]\n",
    "\n",
    "        # Write the filtered lines to the output file\n",
    "        output_file.writelines(filtered_chunk)\n",
    "\n",
    "end_time = time.time()\n",
    "\n",
    "# Print the time taken in hours and minutes\n",
    "elapsed_time = end_time - start_time\n",
    "hours = int(elapsed_time // 3600)\n",
    "minutes = int((elapsed_time % 3600) // 60)\n",
    "print(f\"Time taken: {hours} hours {minutes} minutes\")\n"
   ]
  },
  {
   "cell_type": "code",
   "execution_count": null,
   "id": "a742f5eb",
   "metadata": {},
   "outputs": [],
   "source": []
  }
 ],
 "metadata": {
  "kernelspec": {
   "display_name": "Python 3 (ipykernel)",
   "language": "python",
   "name": "python3"
  },
  "language_info": {
   "codemirror_mode": {
    "name": "ipython",
    "version": 3
   },
   "file_extension": ".py",
   "mimetype": "text/x-python",
   "name": "python",
   "nbconvert_exporter": "python",
   "pygments_lexer": "ipython3",
   "version": "3.9.0"
  }
 },
 "nbformat": 4,
 "nbformat_minor": 5
}
