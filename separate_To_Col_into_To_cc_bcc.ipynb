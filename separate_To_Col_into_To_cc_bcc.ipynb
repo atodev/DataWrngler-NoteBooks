{
 "cells": [
  {
   "cell_type": "markdown",
   "id": "373732d5",
   "metadata": {},
   "source": [
    "Script to separate all subjects in the To column and assign them to labelled columns as indicated by RecipientType\n",
    "TomB: 10/04/23"
   ]
  },
  {
   "cell_type": "code",
   "execution_count": 144,
   "id": "9b81d7a0",
   "metadata": {},
   "outputs": [],
   "source": [
    "import pandas as pd"
   ]
  },
  {
   "cell_type": "code",
   "execution_count": 145,
   "id": "3ca087a6",
   "metadata": {},
   "outputs": [],
   "source": [
    "df = pd.read_csv('../Data/TrialTeam1/TT1_Journal_Data.tsv')"
   ]
  },
  {
   "cell_type": "code",
   "execution_count": 146,
   "id": "501b2d46",
   "metadata": {},
   "outputs": [],
   "source": [
    "noneed=['Media','Subject','MessageID','Info']"
   ]
  },
  {
   "cell_type": "code",
   "execution_count": 147,
   "id": "3e415391",
   "metadata": {},
   "outputs": [],
   "source": [
    "df.drop(noneed,axis=1,inplace=True)"
   ]
  },
  {
   "cell_type": "code",
   "execution_count": 148,
   "id": "f2b59587",
   "metadata": {},
   "outputs": [],
   "source": [
    "#df"
   ]
  },
  {
   "cell_type": "code",
   "execution_count": 149,
   "id": "d6d3e78c",
   "metadata": {},
   "outputs": [],
   "source": [
    "def sep_add(df):\n",
    "    # Split recipients in the To column\n",
    "        df['To'] = df['To'].str.split(',')\n",
    "\n",
    "        # Create new columns for cc and bcc\n",
    "        df['Cc'] = ''\n",
    "        df['Bcc'] = ''\n",
    "\n",
    "        # Iterate over each row and distribute recipients to the appropriate new columns\n",
    "        for i, row in df.iterrows():\n",
    "            recipients = row['To']\n",
    "            recipient_types = row['RecipientType'].split(',')\n",
    "            to_recipients = []\n",
    "            cc_recipients = []\n",
    "            bcc_recipients = []\n",
    "            for j, recipient in enumerate(recipients):\n",
    "                recipient_type = recipient_types[j % len(recipient_types)]\n",
    "                if recipient_type == 'to':\n",
    "                    to_recipients.append(recipient)\n",
    "                elif recipient_type == 'cc':\n",
    "                    cc_recipients.append(recipient)\n",
    "                elif recipient_type == 'bcc':\n",
    "                    bcc_recipients.append(recipient)\n",
    "            df.at[i, 'To'] = ','.join(to_recipients)\n",
    "            df.at[i, 'Cc'] = ','.join(cc_recipients)\n",
    "            df.at[i, 'Bcc'] = ','.join(bcc_recipients)\n",
    "        return df\n",
    "    "
   ]
  },
  {
   "cell_type": "code",
   "execution_count": 152,
   "id": "c3432d13",
   "metadata": {},
   "outputs": [],
   "source": [
    "#sep_add(df)"
   ]
  },
  {
   "cell_type": "code",
   "execution_count": null,
   "id": "7cb24066",
   "metadata": {},
   "outputs": [],
   "source": [
    "#df.to_csv(\"t2.csv\")"
   ]
  },
  {
   "cell_type": "code",
   "execution_count": 154,
   "id": "e83d6fc6",
   "metadata": {},
   "outputs": [
    {
     "data": {
      "text/html": [
       "<div>\n",
       "<style scoped>\n",
       "    .dataframe tbody tr th:only-of-type {\n",
       "        vertical-align: middle;\n",
       "    }\n",
       "\n",
       "    .dataframe tbody tr th {\n",
       "        vertical-align: top;\n",
       "    }\n",
       "\n",
       "    .dataframe thead th {\n",
       "        text-align: right;\n",
       "    }\n",
       "</style>\n",
       "<table border=\"1\" class=\"dataframe\">\n",
       "  <thead>\n",
       "    <tr style=\"text-align: right;\">\n",
       "      <th></th>\n",
       "      <th>To</th>\n",
       "      <th>RecipientType</th>\n",
       "      <th>Cc</th>\n",
       "      <th>Bcc</th>\n",
       "    </tr>\n",
       "  </thead>\n",
       "  <tbody>\n",
       "    <tr>\n",
       "      <th>0</th>\n",
       "      <td>user1@example.com,user2@example.com</td>\n",
       "      <td>to,to</td>\n",
       "      <td></td>\n",
       "      <td></td>\n",
       "    </tr>\n",
       "    <tr>\n",
       "      <th>1</th>\n",
       "      <td>user3@example.com</td>\n",
       "      <td>to,bcc</td>\n",
       "      <td></td>\n",
       "      <td>user4@example.com</td>\n",
       "    </tr>\n",
       "    <tr>\n",
       "      <th>2</th>\n",
       "      <td>user5@example.com</td>\n",
       "      <td>to,cc,bcc,bcc</td>\n",
       "      <td>user6@example.com</td>\n",
       "      <td>user7@example.com,user8@example.com</td>\n",
       "    </tr>\n",
       "  </tbody>\n",
       "</table>\n",
       "</div>"
      ],
      "text/plain": [
       "                                    To  RecipientType                 Cc  \\\n",
       "0  user1@example.com,user2@example.com          to,to                      \n",
       "1                    user3@example.com         to,bcc                      \n",
       "2                    user5@example.com  to,cc,bcc,bcc  user6@example.com   \n",
       "\n",
       "                                   Bcc  \n",
       "0                                       \n",
       "1                    user4@example.com  \n",
       "2  user7@example.com,user8@example.com  "
      ]
     },
     "execution_count": 154,
     "metadata": {},
     "output_type": "execute_result"
    }
   ],
   "source": [
    "# A test:\n",
    "# Create a sample dataframe\n",
    "data = {'To': ['user1@example.com,user2@example.com', \n",
    "               'user3@example.com,user4@example.com', \n",
    "               'user5@example.com,user6@example.com,user7@example.com,user8@example.com'],\n",
    "        'RecipientType': ['to,to', \n",
    "                          'to,bcc', \n",
    "                          'to,cc,bcc,bcc']}\n",
    "dfTest = pd.DataFrame(data)\n",
    "sep_add(dfTest)"
   ]
  }
 ],
 "metadata": {
  "kernelspec": {
   "display_name": "Python 3 (ipykernel)",
   "language": "python",
   "name": "python3"
  },
  "language_info": {
   "codemirror_mode": {
    "name": "ipython",
    "version": 3
   },
   "file_extension": ".py",
   "mimetype": "text/x-python",
   "name": "python",
   "nbconvert_exporter": "python",
   "pygments_lexer": "ipython3",
   "version": "3.9.0"
  }
 },
 "nbformat": 4,
 "nbformat_minor": 5
}
